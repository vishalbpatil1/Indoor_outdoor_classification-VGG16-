{
 "cells": [
  {
   "cell_type": "code",
   "execution_count": 2,
   "metadata": {},
   "outputs": [],
   "source": [
    "import cv2\n",
    "import matplotlib.pyplot as plt\n",
    "from keras.preprocessing import image\n",
    "import tensorflow as tf\n",
    "import numpy as np\n",
    "def text_display(text,text_offset_x,text_offset_y,color):\n",
    "    (text_width, text_height) = cv2.getTextSize(text, font_, fontScale=1, thickness=1)[0]\n",
    "    box_coords = ((text_offset_x, text_offset_y+20), (text_offset_x + text_width + 10, text_offset_y - text_height-20))\n",
    "    cv2.rectangle(image_frame, box_coords[0], box_coords[1], (0,0,0), cv2.FILLED)\n",
    "    cv2.putText(image_frame, text, (text_offset_x, text_offset_y), font_, fontScale=1, color=color, thickness=2)\n",
    "    return image_frame\n",
    "\n",
    "model=tf.keras.models.load_model(r'C:\\\\Users\\\\Vishal\\\\scens_indoor_outdoor\\\\model\\\\model_1.h5')\n",
    "font = cv2.FONT_HERSHEY_PLAIN\n",
    "font_=cv2.FONT_HERSHEY_COMPLEX\n",
    "target_name=['indoor','outdoor']\n",
    "#vid_cam = cv2.VideoCapture(0)\n",
    "vid_cam = cv2.VideoCapture('C:\\\\Users\\\\Vishal\\\\scens_indoor_outdoor\\\\model\\\\test_video.mp4')\n",
    "\n",
    "while(True):\n",
    "    _,image_frame = vid_cam.read()\n",
    "    scens = cv2.resize(image_frame,(224,224))\n",
    "    img_arr = image.img_to_array(scens)\n",
    "    img_expand = np.expand_dims(img_arr, axis = 0)\n",
    "    img_expand /= 255\n",
    "    pred = model.predict(img_expand)\n",
    "    name=target_name[pred.argmax()]\n",
    "    cv2.putText(image_frame,str('Indoor And Outdoor Classification'), (10,50), font_, 1, (250,200,200), 2)\n",
    "    text1 = str('Image class : ')+str(name)\n",
    "    text2 = 'Probability :  %.3f'% np.max(pred)\n",
    "    text_display(text1,100,400,color=(200,200,0))\n",
    "    text_display(text2,120,450,color=(200,200,200))\n",
    "    cv2.imshow('Real time indoor and outdoor classification ',image_frame)\n",
    "\n",
    "    key=cv2.waitKey(1)\n",
    "    if key ==ord('v'): \n",
    "        break \n",
    "vid_cam.release()\n",
    "cv2.destroyAllWindows()"
   ]
  },
  {
   "cell_type": "code",
   "execution_count": null,
   "metadata": {},
   "outputs": [],
   "source": []
  },
  {
   "cell_type": "code",
   "execution_count": null,
   "metadata": {},
   "outputs": [],
   "source": []
  }
 ],
 "metadata": {
  "kernelspec": {
   "display_name": "Python 3",
   "language": "python",
   "name": "python3"
  },
  "language_info": {
   "codemirror_mode": {
    "name": "ipython",
    "version": 3
   },
   "file_extension": ".py",
   "mimetype": "text/x-python",
   "name": "python",
   "nbconvert_exporter": "python",
   "pygments_lexer": "ipython3",
   "version": "3.8.5"
  }
 },
 "nbformat": 4,
 "nbformat_minor": 4
}
